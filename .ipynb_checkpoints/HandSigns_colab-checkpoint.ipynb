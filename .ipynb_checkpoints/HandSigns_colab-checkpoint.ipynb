{
 "cells": [
  {
   "cell_type": "code",
   "execution_count": 0,
   "metadata": {
    "colab": {},
    "colab_type": "code",
    "id": "NX8qPBwYbSHx"
   },
   "outputs": [],
   "source": [
    "#Essential libraries\n",
    "import numpy as np\n",
    "import h5py\n",
    "import matplotlib.pyplot as plt\n",
    "\n",
    "#Deep learning framework\n",
    "import tensorflow as tf\n",
    "from tensorflow import keras\n",
    "\n",
    "from tensorflow.keras import Sequential\n",
    "from tensorflow.keras.layers import Dense , Conv2D , Flatten ,MaxPool2D"
   ]
  },
  {
   "cell_type": "code",
   "execution_count": 4,
   "metadata": {
    "colab": {
     "base_uri": "https://localhost:8080/",
     "height": 35
    },
    "colab_type": "code",
    "id": "xu6GjbeOb59U",
    "outputId": "44035818-343c-4520-af66-8ab7cd894ab1"
   },
   "outputs": [
    {
     "data": {
      "text/plain": [
       "'2.2.0-rc4'"
      ]
     },
     "execution_count": 4,
     "metadata": {
      "tags": []
     },
     "output_type": "execute_result"
    }
   ],
   "source": [
    "tf.__version__"
   ]
  },
  {
   "cell_type": "code",
   "execution_count": 0,
   "metadata": {
    "colab": {},
    "colab_type": "code",
    "id": "V7ZkWSp1496D"
   },
   "outputs": [],
   "source": [
    "%cd /content/drive/My Drive/datasets\n",
    "ls"
   ]
  },
  {
   "cell_type": "code",
   "execution_count": 0,
   "metadata": {
    "colab": {},
    "colab_type": "code",
    "id": "226tjqqShfNb"
   },
   "outputs": [],
   "source": [
    "#Utility Functions\n",
    "\n",
    "def load_dataset():\n",
    "    train_dataset = h5py.File('train_signs.h5', \"r\")\n",
    "    train_set_x_orig = np.array(train_dataset[\"train_set_x\"][:]) # your train set features\n",
    "    train_set_y_orig = np.array(train_dataset[\"train_set_y\"][:]) # your train set labels\n",
    "\n",
    "    test_dataset = h5py.File('test_signs.h5', \"r\")\n",
    "    test_set_x_orig = np.array(test_dataset[\"test_set_x\"][:]) # your test set features\n",
    "    test_set_y_orig = np.array(test_dataset[\"test_set_y\"][:]) # your test set labels\n",
    "\n",
    "    classes = np.array(test_dataset[\"list_classes\"][:]) # the list of classes\n",
    "    \n",
    "    train_set_y_orig = train_set_y_orig.reshape((1, train_set_y_orig.shape[0]))\n",
    "    test_set_y_orig = test_set_y_orig.reshape((1, test_set_y_orig.shape[0]))\n",
    "    \n",
    "    return train_set_x_orig, train_set_y_orig, test_set_x_orig, test_set_y_orig, classes\n",
    "\n",
    "\n",
    "\n",
    "def convert_to_one_hot(Y, C):\n",
    "    Y = np.eye(C)[Y.reshape(-1)].T\n",
    "    return Y"
   ]
  },
  {
   "cell_type": "code",
   "execution_count": 0,
   "metadata": {
    "colab": {},
    "colab_type": "code",
    "id": "h50C6ddeimH1"
   },
   "outputs": [],
   "source": [
    "X_train_orig, Y_train_orig, X_test_orig, Y_test_orig, classes = load_dataset()"
   ]
  },
  {
   "cell_type": "code",
   "execution_count": 70,
   "metadata": {
    "colab": {
     "base_uri": "https://localhost:8080/",
     "height": 126
    },
    "colab_type": "code",
    "id": "ULAju10jzg1O",
    "outputId": "89cd5ce8-3755-4dab-83fc-247d76eefb44"
   },
   "outputs": [
    {
     "name": "stdout",
     "output_type": "stream",
     "text": [
      "number of training examples = 1080\n",
      "number of test examples = 120\n",
      "X_train shape: (1080, 64, 64, 3)\n",
      "Y_train shape: (1080, 6)\n",
      "X_test shape: (120, 64, 64, 3)\n",
      "Y_test shape: (120, 6)\n"
     ]
    }
   ],
   "source": [
    "X_train = X_train_orig/255.\n",
    "X_test = X_test_orig/255.\n",
    "Y_train = convert_to_one_hot(Y_train_orig, 6).T\n",
    "Y_test = convert_to_one_hot(Y_test_orig, 6).T\n",
    "print (\"number of training examples = \" + str(X_train.shape[0]))\n",
    "print (\"number of test examples = \" + str(X_test.shape[0]))\n",
    "print (\"X_train shape: \" + str(X_train.shape))\n",
    "print (\"Y_train shape: \" + str(Y_train.shape))\n",
    "print (\"X_test shape: \" + str(X_test.shape))\n",
    "print (\"Y_test shape: \" + str(Y_test.shape))\n",
    "conv_layers = {}"
   ]
  },
  {
   "cell_type": "code",
   "execution_count": 71,
   "metadata": {
    "colab": {
     "base_uri": "https://localhost:8080/",
     "height": 286
    },
    "colab_type": "code",
    "id": "Ur_pUhEoij8L",
    "outputId": "0ee231ca-963e-4c72-a712-3275493450ca"
   },
   "outputs": [
    {
     "name": "stdout",
     "output_type": "stream",
     "text": [
      "y = 2\n"
     ]
    },
    {
     "data": {
      "image/png": "[encoded data removed]",
      "text/plain": [
       "<Figure size 432x288 with 1 Axes>"
      ]
     },
     "metadata": {
      "needs_background": "light",
      "tags": []
     },
     "output_type": "display_data"
    }
   ],
   "source": [
    "# Example of a picture\n",
    "index = 6\n",
    "plt.imshow(X_train_orig[index])\n",
    "print (\"y = \" + str(np.squeeze(Y_train_orig[:, index])))"
   ]
  },
  {
   "cell_type": "code",
   "execution_count": 0,
   "metadata": {
    "colab": {},
    "colab_type": "code",
    "id": "WtN3_lzxilPt"
   },
   "outputs": [],
   "source": [
    "model = Sequential()\n",
    "model.add(Conv2D(32, input_shape=(64, 64, 3), kernel_size=3,\n",
    "                 padding = 'same',activation='relu'))\n",
    "model.add(MaxPool2D(pool_size = (8,8),strides = (8,8),padding = 'same'))\n",
    "\n",
    "model.add(Conv2D(16, kernel_size = 3,activation='relu'))\n",
    "model.add(MaxPool2D(pool_size=(4,4),strides = (4,4) ,padding = \"same\"))\n",
    "model.add(Flatten())\n",
    "model.add(Dense(6,activation='softmax'))\n",
    "\n",
    "model.compile(optimizer='Adam',loss='categorical_crossentropy',metrics=['accuracy'])"
   ]
  },
  {
   "cell_type": "code",
   "execution_count": 115,
   "metadata": {
    "colab": {
     "base_uri": "https://localhost:8080/",
     "height": 381
    },
    "colab_type": "code",
    "id": "8ob5wKDTtUAR",
    "outputId": "2f31ffe8-bb6a-4136-c500-ca5f79d5782a"
   },
   "outputs": [
    {
     "name": "stdout",
     "output_type": "stream",
     "text": [
      "Model: \"sequential_8\"\n",
      "_________________________________________________________________\n",
      "Layer (type)                 Output Shape              Param #   \n",
      "=================================================================\n",
      "conv2d_16 (Conv2D)           (None, 64, 64, 32)        896       \n",
      "_________________________________________________________________\n",
      "max_pooling2d_16 (MaxPooling (None, 8, 8, 32)          0         \n",
      "_________________________________________________________________\n",
      "conv2d_17 (Conv2D)           (None, 6, 6, 16)          4624      \n",
      "_________________________________________________________________\n",
      "max_pooling2d_17 (MaxPooling (None, 2, 2, 16)          0         \n",
      "_________________________________________________________________\n",
      "flatten_8 (Flatten)          (None, 64)                0         \n",
      "_________________________________________________________________\n",
      "dense_8 (Dense)              (None, 6)                 390       \n",
      "=================================================================\n",
      "Total params: 5,910\n",
      "Trainable params: 5,910\n",
      "Non-trainable params: 0\n",
      "_________________________________________________________________\n"
     ]
    }
   ],
   "source": [
    "model.summary()"
   ]
  },
  {
   "cell_type": "code",
   "execution_count": 0,
   "metadata": {
    "colab": {},
    "colab_type": "code",
    "id": "-orsm7Y8JIKf"
   },
   "outputs": [],
   "source": [
    "import os\n",
    "checkpoint_path = \"/content/chk/cp.ckpt\"\n",
    "checkpoint_dir = os.path.dirname(checkpoint_path)"
   ]
  },
  {
   "cell_type": "code",
   "execution_count": 120,
   "metadata": {
    "colab": {
     "base_uri": "https://localhost:8080/",
     "height": 35
    },
    "colab_type": "code",
    "id": "14WPE2edJL3Z",
    "outputId": "0c60c2cb-a8fc-4632-9099-050e4ec86587"
   },
   "outputs": [
    {
     "data": {
      "text/plain": [
       "'/content/chk'"
      ]
     },
     "execution_count": 120,
     "metadata": {
      "tags": []
     },
     "output_type": "execute_result"
    }
   ],
   "source": [
    "checkpoint_dir"
   ]
  },
  {
   "cell_type": "code",
   "execution_count": 0,
   "metadata": {
    "colab": {},
    "colab_type": "code",
    "id": "6kDcMXMKHy1T"
   },
   "outputs": [],
   "source": [
    "from tensorflow.keras.callbacks import EarlyStopping,ModelCheckpoint\n",
    "\n",
    "#checkpoint path /content/chk\n",
    "\n",
    "\n",
    "earlystopping = EarlyStopping(monitor='val_loss',patience=5)\n",
    "modelcheckpoint = ModelCheckpoint(filepath= checkpoint_path,save_weights_only=True,verbose=1)"
   ]
  },
  {
   "cell_type": "code",
   "execution_count": 130,
   "metadata": {
    "colab": {
     "base_uri": "https://localhost:8080/",
     "height": 1000
    },
    "colab_type": "code",
    "id": "q3rOaML6-kpD",
    "outputId": "dfbc66da-b6f4-413d-8eaf-795a34b2cd63"
   },
   "outputs": [
    {
     "name": "stdout",
     "output_type": "stream",
     "text": [
      "Epoch 1/100\n",
      "34/34 [==============================] - ETA: 0s - loss: 0.1151 - accuracy: 0.9731\n",
      "Epoch 00001: saving model to /content/chk/cp.ckpt\n",
      "34/34 [==============================] - 0s 7ms/step - loss: 0.1151 - accuracy: 0.9731 - val_loss: 0.2331 - val_accuracy: 0.9250\n",
      "Epoch 2/100\n",
      "34/34 [==============================] - ETA: 0s - loss: 0.1066 - accuracy: 0.9741\n",
      "Epoch 00002: saving model to /content/chk/cp.ckpt\n",
      "34/34 [==============================] - 0s 6ms/step - loss: 0.1066 - accuracy: 0.9741 - val_loss: 0.2817 - val_accuracy: 0.8667\n",
      "Epoch 3/100\n",
      "33/34 [============================>.] - ETA: 0s - loss: 0.1198 - accuracy: 0.9716\n",
      "Epoch 00003: saving model to /content/chk/cp.ckpt\n",
      "34/34 [==============================] - 0s 6ms/step - loss: 0.1186 - accuracy: 0.9722 - val_loss: 0.3010 - val_accuracy: 0.9000\n",
      "Epoch 4/100\n",
      "34/34 [==============================] - ETA: 0s - loss: 0.1194 - accuracy: 0.9639\n",
      "Epoch 00004: saving model to /content/chk/cp.ckpt\n",
      "34/34 [==============================] - 0s 6ms/step - loss: 0.1194 - accuracy: 0.9639 - val_loss: 0.2616 - val_accuracy: 0.9083\n",
      "Epoch 5/100\n",
      "33/34 [============================>.] - ETA: 0s - loss: 0.1259 - accuracy: 0.9574\n",
      "Epoch 00005: saving model to /content/chk/cp.ckpt\n",
      "34/34 [==============================] - 0s 6ms/step - loss: 0.1254 - accuracy: 0.9574 - val_loss: 0.2457 - val_accuracy: 0.9000\n",
      "Epoch 6/100\n",
      "23/34 [===================>..........] - ETA: 0s - loss: 0.1043 - accuracy: 0.9769\n",
      "Epoch 00006: saving model to /content/chk/cp.ckpt\n",
      "34/34 [==============================] - 0s 6ms/step - loss: 0.1005 - accuracy: 0.9787 - val_loss: 0.2358 - val_accuracy: 0.9167\n",
      "Epoch 7/100\n",
      "25/34 [=====================>........] - ETA: 0s - loss: 0.0981 - accuracy: 0.9762\n",
      "Epoch 00007: saving model to /content/chk/cp.ckpt\n",
      "34/34 [==============================] - 0s 6ms/step - loss: 0.1009 - accuracy: 0.9750 - val_loss: 0.2859 - val_accuracy: 0.8667\n",
      "Epoch 8/100\n",
      "23/34 [===================>..........] - ETA: 0s - loss: 0.0980 - accuracy: 0.9796\n",
      "Epoch 00008: saving model to /content/chk/cp.ckpt\n",
      "34/34 [==============================] - 0s 6ms/step - loss: 0.0954 - accuracy: 0.9787 - val_loss: 0.2592 - val_accuracy: 0.8917\n",
      "Epoch 9/100\n",
      "24/34 [====================>.........] - ETA: 0s - loss: 0.0901 - accuracy: 0.9805\n",
      "Epoch 00009: saving model to /content/chk/cp.ckpt\n",
      "34/34 [==============================] - 0s 6ms/step - loss: 0.0907 - accuracy: 0.9778 - val_loss: 0.2386 - val_accuracy: 0.9167\n",
      "Epoch 10/100\n",
      "33/34 [============================>.] - ETA: 0s - loss: 0.0887 - accuracy: 0.9820\n",
      "Epoch 00010: saving model to /content/chk/cp.ckpt\n",
      "34/34 [==============================] - 0s 6ms/step - loss: 0.0891 - accuracy: 0.9815 - val_loss: 0.2564 - val_accuracy: 0.9083\n",
      "Epoch 11/100\n",
      "25/34 [=====================>........] - ETA: 0s - loss: 0.0887 - accuracy: 0.9837\n",
      "Epoch 00011: saving model to /content/chk/cp.ckpt\n",
      "34/34 [==============================] - 0s 6ms/step - loss: 0.0889 - accuracy: 0.9815 - val_loss: 0.2449 - val_accuracy: 0.8917\n",
      "Epoch 12/100\n",
      "24/34 [====================>.........] - ETA: 0s - loss: 0.1016 - accuracy: 0.9805\n",
      "Epoch 00012: saving model to /content/chk/cp.ckpt\n",
      "34/34 [==============================] - 0s 6ms/step - loss: 0.0979 - accuracy: 0.9806 - val_loss: 0.2517 - val_accuracy: 0.9167\n",
      "Epoch 13/100\n",
      "34/34 [==============================] - ETA: 0s - loss: 0.0882 - accuracy: 0.9833\n",
      "Epoch 00013: saving model to /content/chk/cp.ckpt\n",
      "34/34 [==============================] - 0s 6ms/step - loss: 0.0882 - accuracy: 0.9833 - val_loss: 0.2781 - val_accuracy: 0.8917\n",
      "Epoch 14/100\n",
      "34/34 [==============================] - ETA: 0s - loss: 0.0908 - accuracy: 0.9806\n",
      "Epoch 00014: saving model to /content/chk/cp.ckpt\n",
      "34/34 [==============================] - 0s 7ms/step - loss: 0.0908 - accuracy: 0.9806 - val_loss: 0.2489 - val_accuracy: 0.9083\n",
      "Epoch 15/100\n",
      "33/34 [============================>.] - ETA: 0s - loss: 0.0995 - accuracy: 0.9763\n",
      "Epoch 00015: saving model to /content/chk/cp.ckpt\n",
      "34/34 [==============================] - 0s 6ms/step - loss: 0.0986 - accuracy: 0.9769 - val_loss: 0.2865 - val_accuracy: 0.8917\n",
      "Epoch 16/100\n",
      "33/34 [============================>.] - ETA: 0s - loss: 0.0814 - accuracy: 0.9839\n",
      "Epoch 00016: saving model to /content/chk/cp.ckpt\n",
      "34/34 [==============================] - 0s 6ms/step - loss: 0.0802 - accuracy: 0.9843 - val_loss: 0.2652 - val_accuracy: 0.9083\n",
      "Epoch 17/100\n",
      "23/34 [===================>..........] - ETA: 0s - loss: 0.0843 - accuracy: 0.9769\n",
      "Epoch 00017: saving model to /content/chk/cp.ckpt\n",
      "34/34 [==============================] - 0s 6ms/step - loss: 0.0815 - accuracy: 0.9806 - val_loss: 0.2293 - val_accuracy: 0.9250\n",
      "Epoch 18/100\n",
      "34/34 [==============================] - ETA: 0s - loss: 0.0858 - accuracy: 0.9778\n",
      "Epoch 00018: saving model to /content/chk/cp.ckpt\n",
      "34/34 [==============================] - 0s 6ms/step - loss: 0.0858 - accuracy: 0.9778 - val_loss: 0.2951 - val_accuracy: 0.9083\n",
      "Epoch 19/100\n",
      "32/34 [===========================>..] - ETA: 0s - loss: 0.0852 - accuracy: 0.9795\n",
      "Epoch 00019: saving model to /content/chk/cp.ckpt\n",
      "34/34 [==============================] - 0s 7ms/step - loss: 0.0834 - accuracy: 0.9796 - val_loss: 0.2478 - val_accuracy: 0.8917\n",
      "Epoch 20/100\n",
      "33/34 [============================>.] - ETA: 0s - loss: 0.0823 - accuracy: 0.9877\n",
      "Epoch 00020: saving model to /content/chk/cp.ckpt\n",
      "34/34 [==============================] - 0s 7ms/step - loss: 0.0811 - accuracy: 0.9880 - val_loss: 0.2201 - val_accuracy: 0.9167\n",
      "Epoch 21/100\n",
      "34/34 [==============================] - ETA: 0s - loss: 0.0788 - accuracy: 0.9852\n",
      "Epoch 00021: saving model to /content/chk/cp.ckpt\n",
      "34/34 [==============================] - 0s 6ms/step - loss: 0.0788 - accuracy: 0.9852 - val_loss: 0.2571 - val_accuracy: 0.9000\n",
      "Epoch 22/100\n",
      "34/34 [==============================] - ETA: 0s - loss: 0.0740 - accuracy: 0.9870\n",
      "Epoch 00022: saving model to /content/chk/cp.ckpt\n",
      "34/34 [==============================] - 0s 6ms/step - loss: 0.0740 - accuracy: 0.9870 - val_loss: 0.2337 - val_accuracy: 0.9167\n",
      "Epoch 23/100\n",
      "34/34 [==============================] - ETA: 0s - loss: 0.0690 - accuracy: 0.9852\n",
      "Epoch 00023: saving model to /content/chk/cp.ckpt\n",
      "34/34 [==============================] - 0s 7ms/step - loss: 0.0690 - accuracy: 0.9852 - val_loss: 0.2200 - val_accuracy: 0.9250\n",
      "Epoch 24/100\n",
      "34/34 [==============================] - ETA: 0s - loss: 0.0706 - accuracy: 0.9926\n",
      "Epoch 00024: saving model to /content/chk/cp.ckpt\n",
      "34/34 [==============================] - 0s 6ms/step - loss: 0.0706 - accuracy: 0.9926 - val_loss: 0.2449 - val_accuracy: 0.9083\n",
      "Epoch 25/100\n",
      "34/34 [==============================] - ETA: 0s - loss: 0.0699 - accuracy: 0.9889\n",
      "Epoch 00025: saving model to /content/chk/cp.ckpt\n",
      "34/34 [==============================] - 0s 6ms/step - loss: 0.0699 - accuracy: 0.9889 - val_loss: 0.2596 - val_accuracy: 0.9333\n",
      "Epoch 26/100\n",
      "33/34 [============================>.] - ETA: 0s - loss: 0.0727 - accuracy: 0.9867\n",
      "Epoch 00026: saving model to /content/chk/cp.ckpt\n",
      "34/34 [==============================] - 0s 6ms/step - loss: 0.0727 - accuracy: 0.9861 - val_loss: 0.2483 - val_accuracy: 0.9083\n",
      "Epoch 27/100\n",
      "34/34 [==============================] - ETA: 0s - loss: 0.0664 - accuracy: 0.9898\n",
      "Epoch 00027: saving model to /content/chk/cp.ckpt\n",
      "34/34 [==============================] - 0s 6ms/step - loss: 0.0664 - accuracy: 0.9898 - val_loss: 0.2550 - val_accuracy: 0.8833\n",
      "Epoch 28/100\n",
      "32/34 [===========================>..] - ETA: 0s - loss: 0.0837 - accuracy: 0.9805\n",
      "Epoch 00028: saving model to /content/chk/cp.ckpt\n",
      "34/34 [==============================] - 0s 6ms/step - loss: 0.0825 - accuracy: 0.9796 - val_loss: 0.2423 - val_accuracy: 0.9167\n",
      "Epoch 29/100\n",
      "34/34 [==============================] - ETA: 0s - loss: 0.0738 - accuracy: 0.9806\n",
      "Epoch 00029: saving model to /content/chk/cp.ckpt\n",
      "34/34 [==============================] - 0s 6ms/step - loss: 0.0738 - accuracy: 0.9806 - val_loss: 0.2172 - val_accuracy: 0.9250\n",
      "Epoch 30/100\n",
      "34/34 [==============================] - ETA: 0s - loss: 0.0624 - accuracy: 0.9907\n",
      "Epoch 00030: saving model to /content/chk/cp.ckpt\n",
      "34/34 [==============================] - 0s 6ms/step - loss: 0.0624 - accuracy: 0.9907 - val_loss: 0.2164 - val_accuracy: 0.9250\n",
      "Epoch 31/100\n",
      "33/34 [============================>.] - ETA: 0s - loss: 0.0608 - accuracy: 0.9934\n",
      "Epoch 00031: saving model to /content/chk/cp.ckpt\n",
      "34/34 [==============================] - 0s 6ms/step - loss: 0.0624 - accuracy: 0.9926 - val_loss: 0.2886 - val_accuracy: 0.8833\n",
      "Epoch 32/100\n",
      "33/34 [============================>.] - ETA: 0s - loss: 0.0623 - accuracy: 0.9877\n",
      "Epoch 00032: saving model to /content/chk/cp.ckpt\n",
      "34/34 [==============================] - 0s 6ms/step - loss: 0.0639 - accuracy: 0.9870 - val_loss: 0.2658 - val_accuracy: 0.8917\n",
      "Epoch 33/100\n",
      "33/34 [============================>.] - ETA: 0s - loss: 0.0706 - accuracy: 0.9867\n",
      "Epoch 00033: saving model to /content/chk/cp.ckpt\n",
      "34/34 [==============================] - 0s 6ms/step - loss: 0.0711 - accuracy: 0.9870 - val_loss: 0.2495 - val_accuracy: 0.9167\n",
      "Epoch 34/100\n",
      "34/34 [==============================] - ETA: 0s - loss: 0.0614 - accuracy: 0.9917\n",
      "Epoch 00034: saving model to /content/chk/cp.ckpt\n",
      "34/34 [==============================] - 0s 7ms/step - loss: 0.0614 - accuracy: 0.9917 - val_loss: 0.2409 - val_accuracy: 0.9000\n",
      "Epoch 35/100\n",
      "33/34 [============================>.] - ETA: 0s - loss: 0.0576 - accuracy: 0.9896\n",
      "Epoch 00035: saving model to /content/chk/cp.ckpt\n",
      "34/34 [==============================] - 0s 6ms/step - loss: 0.0573 - accuracy: 0.9898 - val_loss: 0.2421 - val_accuracy: 0.9250\n",
      "Epoch 36/100\n",
      "34/34 [==============================] - ETA: 0s - loss: 0.0584 - accuracy: 0.9917\n",
      "Epoch 00036: saving model to /content/chk/cp.ckpt\n",
      "34/34 [==============================] - 0s 6ms/step - loss: 0.0584 - accuracy: 0.9917 - val_loss: 0.2524 - val_accuracy: 0.9167\n",
      "Epoch 37/100\n",
      "31/34 [==========================>...] - ETA: 0s - loss: 0.0532 - accuracy: 0.9929\n",
      "Epoch 00037: saving model to /content/chk/cp.ckpt\n",
      "34/34 [==============================] - 0s 7ms/step - loss: 0.0538 - accuracy: 0.9935 - val_loss: 0.2260 - val_accuracy: 0.9167\n",
      "Epoch 38/100\n",
      "24/34 [====================>.........] - ETA: 0s - loss: 0.0506 - accuracy: 0.9961\n",
      "Epoch 00038: saving model to /content/chk/cp.ckpt\n",
      "34/34 [==============================] - 0s 6ms/step - loss: 0.0533 - accuracy: 0.9954 - val_loss: 0.2651 - val_accuracy: 0.9250\n",
      "Epoch 39/100\n",
      "34/34 [==============================] - ETA: 0s - loss: 0.0565 - accuracy: 0.9907\n",
      "Epoch 00039: saving model to /content/chk/cp.ckpt\n",
      "34/34 [==============================] - 0s 6ms/step - loss: 0.0565 - accuracy: 0.9907 - val_loss: 0.2449 - val_accuracy: 0.9167\n",
      "Epoch 40/100\n",
      "23/34 [===================>..........] - ETA: 0s - loss: 0.0488 - accuracy: 0.9918\n",
      "Epoch 00040: saving model to /content/chk/cp.ckpt\n",
      "34/34 [==============================] - 0s 6ms/step - loss: 0.0535 - accuracy: 0.9917 - val_loss: 0.2656 - val_accuracy: 0.9000\n",
      "Epoch 41/100\n",
      "33/34 [============================>.] - ETA: 0s - loss: 0.0534 - accuracy: 0.9943\n",
      "Epoch 00041: saving model to /content/chk/cp.ckpt\n",
      "34/34 [==============================] - 0s 6ms/step - loss: 0.0530 - accuracy: 0.9944 - val_loss: 0.2302 - val_accuracy: 0.9167\n",
      "Epoch 42/100\n",
      "34/34 [==============================] - ETA: 0s - loss: 0.0572 - accuracy: 0.9898\n",
      "Epoch 00042: saving model to /content/chk/cp.ckpt\n",
      "34/34 [==============================] - 0s 6ms/step - loss: 0.0572 - accuracy: 0.9898 - val_loss: 0.2341 - val_accuracy: 0.9333\n",
      "Epoch 43/100\n",
      "34/34 [==============================] - ETA: 0s - loss: 0.0482 - accuracy: 0.9954\n",
      "Epoch 00043: saving model to /content/chk/cp.ckpt\n",
      "34/34 [==============================] - 0s 6ms/step - loss: 0.0482 - accuracy: 0.9954 - val_loss: 0.2201 - val_accuracy: 0.9167\n",
      "Epoch 44/100\n",
      "25/34 [=====================>........] - ETA: 0s - loss: 0.0465 - accuracy: 0.9962\n",
      "Epoch 00044: saving model to /content/chk/cp.ckpt\n",
      "34/34 [==============================] - 0s 6ms/step - loss: 0.0464 - accuracy: 0.9972 - val_loss: 0.2137 - val_accuracy: 0.9167\n",
      "Epoch 45/100\n",
      "25/34 [=====================>........] - ETA: 0s - loss: 0.0489 - accuracy: 0.9937\n",
      "Epoch 00045: saving model to /content/chk/cp.ckpt\n",
      "34/34 [==============================] - 0s 6ms/step - loss: 0.0481 - accuracy: 0.9935 - val_loss: 0.2268 - val_accuracy: 0.9167\n",
      "Epoch 46/100\n",
      "23/34 [===================>..........] - ETA: 0s - loss: 0.0623 - accuracy: 0.9837\n",
      "Epoch 00046: saving model to /content/chk/cp.ckpt\n",
      "34/34 [==============================] - 0s 6ms/step - loss: 0.0573 - accuracy: 0.9880 - val_loss: 0.2390 - val_accuracy: 0.9250\n",
      "Epoch 47/100\n",
      "34/34 [==============================] - ETA: 0s - loss: 0.0495 - accuracy: 0.9944\n",
      "Epoch 00047: saving model to /content/chk/cp.ckpt\n",
      "34/34 [==============================] - 0s 6ms/step - loss: 0.0495 - accuracy: 0.9944 - val_loss: 0.2547 - val_accuracy: 0.9333\n",
      "Epoch 48/100\n",
      "24/34 [====================>.........] - ETA: 0s - loss: 0.0510 - accuracy: 0.9948\n",
      "Epoch 00048: saving model to /content/chk/cp.ckpt\n",
      "34/34 [==============================] - 0s 6ms/step - loss: 0.0498 - accuracy: 0.9954 - val_loss: 0.2421 - val_accuracy: 0.9250\n",
      "Epoch 49/100\n",
      "34/34 [==============================] - ETA: 0s - loss: 0.0448 - accuracy: 0.9935\n",
      "Epoch 00049: saving model to /content/chk/cp.ckpt\n",
      "34/34 [==============================] - 0s 6ms/step - loss: 0.0448 - accuracy: 0.9935 - val_loss: 0.2770 - val_accuracy: 0.8833\n",
      "Epoch 50/100\n",
      "34/34 [==============================] - ETA: 0s - loss: 0.0520 - accuracy: 0.9861\n",
      "Epoch 00050: saving model to /content/chk/cp.ckpt\n",
      "34/34 [==============================] - 0s 7ms/step - loss: 0.0520 - accuracy: 0.9861 - val_loss: 0.2272 - val_accuracy: 0.9250\n",
      "Epoch 51/100\n",
      "33/34 [============================>.] - ETA: 0s - loss: 0.0488 - accuracy: 0.9924\n",
      "Epoch 00051: saving model to /content/chk/cp.ckpt\n",
      "34/34 [==============================] - 0s 6ms/step - loss: 0.0501 - accuracy: 0.9926 - val_loss: 0.2168 - val_accuracy: 0.9167\n",
      "Epoch 52/100\n",
      "25/34 [=====================>........] - ETA: 0s - loss: 0.0536 - accuracy: 0.9912\n",
      "Epoch 00052: saving model to /content/chk/cp.ckpt\n",
      "34/34 [==============================] - 0s 6ms/step - loss: 0.0511 - accuracy: 0.9935 - val_loss: 0.2215 - val_accuracy: 0.9167\n",
      "Epoch 53/100\n",
      "24/34 [====================>.........] - ETA: 0s - loss: 0.0362 - accuracy: 0.9961\n",
      "Epoch 00053: saving model to /content/chk/cp.ckpt\n",
      "34/34 [==============================] - 0s 6ms/step - loss: 0.0384 - accuracy: 0.9972 - val_loss: 0.2570 - val_accuracy: 0.9083\n",
      "Epoch 54/100\n",
      "24/34 [====================>.........] - ETA: 0s - loss: 0.0416 - accuracy: 0.9974\n",
      "Epoch 00054: saving model to /content/chk/cp.ckpt\n",
      "34/34 [==============================] - 0s 6ms/step - loss: 0.0413 - accuracy: 0.9963 - val_loss: 0.2007 - val_accuracy: 0.9333\n",
      "Epoch 55/100\n",
      "24/34 [====================>.........] - ETA: 0s - loss: 0.0356 - accuracy: 1.0000\n",
      "Epoch 00055: saving model to /content/chk/cp.ckpt\n",
      "34/34 [==============================] - 0s 6ms/step - loss: 0.0383 - accuracy: 0.9981 - val_loss: 0.2078 - val_accuracy: 0.9167\n",
      "Epoch 56/100\n",
      "34/34 [==============================] - ETA: 0s - loss: 0.0440 - accuracy: 0.9926\n",
      "Epoch 00056: saving model to /content/chk/cp.ckpt\n",
      "34/34 [==============================] - 0s 6ms/step - loss: 0.0440 - accuracy: 0.9926 - val_loss: 0.2170 - val_accuracy: 0.9250\n",
      "Epoch 57/100\n",
      "23/34 [===================>..........] - ETA: 0s - loss: 0.0427 - accuracy: 0.9973\n",
      "Epoch 00057: saving model to /content/chk/cp.ckpt\n",
      "34/34 [==============================] - 0s 6ms/step - loss: 0.0408 - accuracy: 0.9963 - val_loss: 0.2080 - val_accuracy: 0.9167\n",
      "Epoch 58/100\n",
      "24/34 [====================>.........] - ETA: 0s - loss: 0.0425 - accuracy: 0.9935\n",
      "Epoch 00058: saving model to /content/chk/cp.ckpt\n",
      "34/34 [==============================] - 0s 6ms/step - loss: 0.0431 - accuracy: 0.9935 - val_loss: 0.2042 - val_accuracy: 0.9333\n",
      "Epoch 59/100\n",
      "33/34 [============================>.] - ETA: 0s - loss: 0.0403 - accuracy: 0.9934\n",
      "Epoch 00059: saving model to /content/chk/cp.ckpt\n",
      "34/34 [==============================] - 0s 6ms/step - loss: 0.0401 - accuracy: 0.9935 - val_loss: 0.2818 - val_accuracy: 0.9250\n",
      "Epoch 60/100\n",
      "24/34 [====================>.........] - ETA: 0s - loss: 0.0469 - accuracy: 0.9922\n",
      "Epoch 00060: saving model to /content/chk/cp.ckpt\n",
      "34/34 [==============================] - 0s 6ms/step - loss: 0.0473 - accuracy: 0.9898 - val_loss: 0.2264 - val_accuracy: 0.9083\n",
      "Epoch 61/100\n",
      "33/34 [============================>.] - ETA: 0s - loss: 0.0458 - accuracy: 0.9915\n",
      "Epoch 00061: saving model to /content/chk/cp.ckpt\n",
      "34/34 [==============================] - 0s 6ms/step - loss: 0.0458 - accuracy: 0.9917 - val_loss: 0.2237 - val_accuracy: 0.9333\n",
      "Epoch 62/100\n",
      "25/34 [=====================>........] - ETA: 0s - loss: 0.0372 - accuracy: 0.9987\n",
      "Epoch 00062: saving model to /content/chk/cp.ckpt\n",
      "34/34 [==============================] - 0s 6ms/step - loss: 0.0368 - accuracy: 0.9981 - val_loss: 0.1951 - val_accuracy: 0.9333\n",
      "Epoch 63/100\n",
      "33/34 [============================>.] - ETA: 0s - loss: 0.0338 - accuracy: 0.9962\n",
      "Epoch 00063: saving model to /content/chk/cp.ckpt\n",
      "34/34 [==============================] - 0s 6ms/step - loss: 0.0332 - accuracy: 0.9963 - val_loss: 0.1994 - val_accuracy: 0.9250\n",
      "Epoch 64/100\n",
      "24/34 [====================>.........] - ETA: 0s - loss: 0.0345 - accuracy: 0.9974\n",
      "Epoch 00064: saving model to /content/chk/cp.ckpt\n",
      "34/34 [==============================] - 0s 6ms/step - loss: 0.0336 - accuracy: 0.9981 - val_loss: 0.2349 - val_accuracy: 0.9333\n",
      "Epoch 65/100\n",
      "25/34 [=====================>........] - ETA: 0s - loss: 0.0312 - accuracy: 0.9987\n",
      "Epoch 00065: saving model to /content/chk/cp.ckpt\n",
      "34/34 [==============================] - 0s 6ms/step - loss: 0.0323 - accuracy: 0.9972 - val_loss: 0.2152 - val_accuracy: 0.9417\n",
      "Epoch 66/100\n",
      "25/34 [=====================>........] - ETA: 0s - loss: 0.0326 - accuracy: 1.0000\n",
      "Epoch 00066: saving model to /content/chk/cp.ckpt\n",
      "34/34 [==============================] - 0s 6ms/step - loss: 0.0355 - accuracy: 0.9991 - val_loss: 0.1919 - val_accuracy: 0.9250\n",
      "Epoch 67/100\n",
      "25/34 [=====================>........] - ETA: 0s - loss: 0.0349 - accuracy: 0.9975\n",
      "Epoch 00067: saving model to /content/chk/cp.ckpt\n",
      "34/34 [==============================] - 0s 6ms/step - loss: 0.0324 - accuracy: 0.9981 - val_loss: 0.2047 - val_accuracy: 0.9250\n",
      "Epoch 68/100\n",
      "23/34 [===================>..........] - ETA: 0s - loss: 0.0307 - accuracy: 0.9986\n",
      "Epoch 00068: saving model to /content/chk/cp.ckpt\n",
      "34/34 [==============================] - 0s 6ms/step - loss: 0.0312 - accuracy: 0.9991 - val_loss: 0.2079 - val_accuracy: 0.9417\n",
      "Epoch 69/100\n",
      "24/34 [====================>.........] - ETA: 0s - loss: 0.0325 - accuracy: 0.9987\n",
      "Epoch 00069: saving model to /content/chk/cp.ckpt\n",
      "34/34 [==============================] - 0s 6ms/step - loss: 0.0301 - accuracy: 0.9991 - val_loss: 0.2071 - val_accuracy: 0.9250\n",
      "Epoch 70/100\n",
      "34/34 [==============================] - ETA: 0s - loss: 0.0298 - accuracy: 0.9963\n",
      "Epoch 00070: saving model to /content/chk/cp.ckpt\n",
      "34/34 [==============================] - 0s 6ms/step - loss: 0.0298 - accuracy: 0.9963 - val_loss: 0.2349 - val_accuracy: 0.9250\n",
      "Epoch 71/100\n",
      "25/34 [=====================>........] - ETA: 0s - loss: 0.0267 - accuracy: 0.9987\n",
      "Epoch 00071: saving model to /content/chk/cp.ckpt\n",
      "34/34 [==============================] - 0s 11ms/step - loss: 0.0288 - accuracy: 0.9981 - val_loss: 0.2493 - val_accuracy: 0.9333\n",
      "Epoch 72/100\n",
      "25/34 [=====================>........] - ETA: 0s - loss: 0.0297 - accuracy: 0.9987\n",
      "Epoch 00072: saving model to /content/chk/cp.ckpt\n",
      "34/34 [==============================] - 0s 6ms/step - loss: 0.0280 - accuracy: 0.9981 - val_loss: 0.2282 - val_accuracy: 0.9250\n",
      "Epoch 73/100\n",
      "34/34 [==============================] - ETA: 0s - loss: 0.0262 - accuracy: 0.9981\n",
      "Epoch 00073: saving model to /content/chk/cp.ckpt\n",
      "34/34 [==============================] - 0s 6ms/step - loss: 0.0262 - accuracy: 0.9981 - val_loss: 0.2140 - val_accuracy: 0.9167\n",
      "Epoch 74/100\n",
      "23/34 [===================>..........] - ETA: 0s - loss: 0.0273 - accuracy: 1.0000\n",
      "Epoch 00074: saving model to /content/chk/cp.ckpt\n",
      "34/34 [==============================] - 0s 6ms/step - loss: 0.0307 - accuracy: 0.9981 - val_loss: 0.2447 - val_accuracy: 0.9083\n",
      "Epoch 75/100\n",
      "25/34 [=====================>........] - ETA: 0s - loss: 0.0329 - accuracy: 0.9937\n",
      "Epoch 00075: saving model to /content/chk/cp.ckpt\n",
      "34/34 [==============================] - 0s 6ms/step - loss: 0.0325 - accuracy: 0.9944 - val_loss: 0.2183 - val_accuracy: 0.9250\n",
      "Epoch 76/100\n",
      "24/34 [====================>.........] - ETA: 0s - loss: 0.0360 - accuracy: 0.9948\n",
      "Epoch 00076: saving model to /content/chk/cp.ckpt\n",
      "34/34 [==============================] - 0s 6ms/step - loss: 0.0367 - accuracy: 0.9926 - val_loss: 0.2233 - val_accuracy: 0.9167\n",
      "Epoch 77/100\n",
      "34/34 [==============================] - ETA: 0s - loss: 0.0267 - accuracy: 0.9981\n",
      "Epoch 00077: saving model to /content/chk/cp.ckpt\n",
      "34/34 [==============================] - 0s 6ms/step - loss: 0.0267 - accuracy: 0.9981 - val_loss: 0.2311 - val_accuracy: 0.9250\n",
      "Epoch 78/100\n",
      "24/34 [====================>.........] - ETA: 0s - loss: 0.0277 - accuracy: 0.9974\n",
      "Epoch 00078: saving model to /content/chk/cp.ckpt\n",
      "34/34 [==============================] - 0s 6ms/step - loss: 0.0268 - accuracy: 0.9972 - val_loss: 0.2429 - val_accuracy: 0.9000\n",
      "Epoch 79/100\n",
      "34/34 [==============================] - ETA: 0s - loss: 0.0301 - accuracy: 0.9972\n",
      "Epoch 00079: saving model to /content/chk/cp.ckpt\n",
      "34/34 [==============================] - 0s 6ms/step - loss: 0.0301 - accuracy: 0.9972 - val_loss: 0.2161 - val_accuracy: 0.9167\n",
      "Epoch 80/100\n",
      "23/34 [===================>..........] - ETA: 0s - loss: 0.0218 - accuracy: 1.0000\n",
      "Epoch 00080: saving model to /content/chk/cp.ckpt\n",
      "34/34 [==============================] - 0s 6ms/step - loss: 0.0258 - accuracy: 0.9991 - val_loss: 0.2462 - val_accuracy: 0.9250\n",
      "Epoch 81/100\n",
      "34/34 [==============================] - ETA: 0s - loss: 0.0323 - accuracy: 0.9963\n",
      "Epoch 00081: saving model to /content/chk/cp.ckpt\n",
      "34/34 [==============================] - 0s 6ms/step - loss: 0.0323 - accuracy: 0.9963 - val_loss: 0.2431 - val_accuracy: 0.9250\n",
      "Epoch 82/100\n",
      "34/34 [==============================] - ETA: 0s - loss: 0.0356 - accuracy: 0.9926\n",
      "Epoch 00082: saving model to /content/chk/cp.ckpt\n",
      "34/34 [==============================] - 0s 6ms/step - loss: 0.0356 - accuracy: 0.9926 - val_loss: 0.2447 - val_accuracy: 0.9333\n",
      "Epoch 83/100\n",
      "23/34 [===================>..........] - ETA: 0s - loss: 0.0265 - accuracy: 0.9986\n",
      "Epoch 00083: saving model to /content/chk/cp.ckpt\n",
      "34/34 [==============================] - 0s 6ms/step - loss: 0.0258 - accuracy: 0.9991 - val_loss: 0.2150 - val_accuracy: 0.9333\n",
      "Epoch 84/100\n",
      "24/34 [====================>.........] - ETA: 0s - loss: 0.0220 - accuracy: 0.9961\n",
      "Epoch 00084: saving model to /content/chk/cp.ckpt\n",
      "34/34 [==============================] - 0s 6ms/step - loss: 0.0234 - accuracy: 0.9963 - val_loss: 0.2268 - val_accuracy: 0.9333\n",
      "Epoch 85/100\n",
      "24/34 [====================>.........] - ETA: 0s - loss: 0.0205 - accuracy: 1.0000\n",
      "Epoch 00085: saving model to /content/chk/cp.ckpt\n",
      "34/34 [==============================] - 0s 6ms/step - loss: 0.0239 - accuracy: 0.9981 - val_loss: 0.2000 - val_accuracy: 0.9083\n",
      "Epoch 86/100\n",
      "24/34 [====================>.........] - ETA: 0s - loss: 0.0232 - accuracy: 0.9974\n",
      "Epoch 00086: saving model to /content/chk/cp.ckpt\n",
      "34/34 [==============================] - 0s 6ms/step - loss: 0.0229 - accuracy: 0.9981 - val_loss: 0.1850 - val_accuracy: 0.9417\n",
      "Epoch 87/100\n",
      "24/34 [====================>.........] - ETA: 0s - loss: 0.0233 - accuracy: 0.9974\n",
      "Epoch 00087: saving model to /content/chk/cp.ckpt\n",
      "34/34 [==============================] - 0s 6ms/step - loss: 0.0225 - accuracy: 0.9981 - val_loss: 0.1959 - val_accuracy: 0.9417\n",
      "Epoch 88/100\n",
      "34/34 [==============================] - ETA: 0s - loss: 0.0184 - accuracy: 0.9991\n",
      "Epoch 00088: saving model to /content/chk/cp.ckpt\n",
      "34/34 [==============================] - 0s 6ms/step - loss: 0.0184 - accuracy: 0.9991 - val_loss: 0.2003 - val_accuracy: 0.9250\n",
      "Epoch 89/100\n",
      "24/34 [====================>.........] - ETA: 0s - loss: 0.0174 - accuracy: 1.0000\n",
      "Epoch 00089: saving model to /content/chk/cp.ckpt\n",
      "34/34 [==============================] - 0s 6ms/step - loss: 0.0197 - accuracy: 1.0000 - val_loss: 0.2224 - val_accuracy: 0.9333\n",
      "Epoch 90/100\n",
      "25/34 [=====================>........] - ETA: 0s - loss: 0.0155 - accuracy: 1.0000\n",
      "Epoch 00090: saving model to /content/chk/cp.ckpt\n",
      "34/34 [==============================] - 0s 6ms/step - loss: 0.0183 - accuracy: 0.9991 - val_loss: 0.2192 - val_accuracy: 0.9167\n",
      "Epoch 91/100\n",
      "34/34 [==============================] - ETA: 0s - loss: 0.0208 - accuracy: 1.0000\n",
      "Epoch 00091: saving model to /content/chk/cp.ckpt\n",
      "34/34 [==============================] - 0s 6ms/step - loss: 0.0208 - accuracy: 1.0000 - val_loss: 0.2240 - val_accuracy: 0.9250\n",
      "Epoch 92/100\n",
      "24/34 [====================>.........] - ETA: 0s - loss: 0.0197 - accuracy: 0.9987\n",
      "Epoch 00092: saving model to /content/chk/cp.ckpt\n",
      "34/34 [==============================] - 0s 6ms/step - loss: 0.0206 - accuracy: 0.9991 - val_loss: 0.2404 - val_accuracy: 0.9083\n",
      "Epoch 93/100\n",
      "33/34 [============================>.] - ETA: 0s - loss: 0.0232 - accuracy: 0.9972\n",
      "Epoch 00093: saving model to /content/chk/cp.ckpt\n",
      "34/34 [==============================] - 0s 6ms/step - loss: 0.0233 - accuracy: 0.9972 - val_loss: 0.2181 - val_accuracy: 0.9333\n",
      "Epoch 94/100\n",
      "23/34 [===================>..........] - ETA: 0s - loss: 0.0184 - accuracy: 0.9986\n",
      "Epoch 00094: saving model to /content/chk/cp.ckpt\n",
      "34/34 [==============================] - 0s 6ms/step - loss: 0.0182 - accuracy: 0.9991 - val_loss: 0.2202 - val_accuracy: 0.9583\n",
      "Epoch 95/100\n",
      "23/34 [===================>..........] - ETA: 0s - loss: 0.0243 - accuracy: 0.9973\n",
      "Epoch 00095: saving model to /content/chk/cp.ckpt\n",
      "34/34 [==============================] - 0s 6ms/step - loss: 0.0241 - accuracy: 0.9981 - val_loss: 0.2148 - val_accuracy: 0.9333\n",
      "Epoch 96/100\n",
      "23/34 [===================>..........] - ETA: 0s - loss: 0.0148 - accuracy: 1.0000\n",
      "Epoch 00096: saving model to /content/chk/cp.ckpt\n",
      "34/34 [==============================] - 0s 6ms/step - loss: 0.0164 - accuracy: 1.0000 - val_loss: 0.1982 - val_accuracy: 0.9500\n",
      "Epoch 97/100\n",
      "24/34 [====================>.........] - ETA: 0s - loss: 0.0157 - accuracy: 1.0000\n",
      "Epoch 00097: saving model to /content/chk/cp.ckpt\n",
      "34/34 [==============================] - 0s 6ms/step - loss: 0.0158 - accuracy: 1.0000 - val_loss: 0.1932 - val_accuracy: 0.9333\n",
      "Epoch 98/100\n",
      "24/34 [====================>.........] - ETA: 0s - loss: 0.0161 - accuracy: 1.0000\n",
      "Epoch 00098: saving model to /content/chk/cp.ckpt\n",
      "34/34 [==============================] - 0s 6ms/step - loss: 0.0160 - accuracy: 1.0000 - val_loss: 0.2363 - val_accuracy: 0.9250\n",
      "Epoch 99/100\n",
      "25/34 [=====================>........] - ETA: 0s - loss: 0.0166 - accuracy: 0.9987\n",
      "Epoch 00099: saving model to /content/chk/cp.ckpt\n",
      "34/34 [==============================] - 0s 6ms/step - loss: 0.0162 - accuracy: 0.9991 - val_loss: 0.2131 - val_accuracy: 0.9250\n",
      "Epoch 100/100\n",
      "34/34 [==============================] - ETA: 0s - loss: 0.0151 - accuracy: 1.0000\n",
      "Epoch 00100: saving model to /content/chk/cp.ckpt\n",
      "34/34 [==============================] - 0s 6ms/step - loss: 0.0151 - accuracy: 1.0000 - val_loss: 0.2221 - val_accuracy: 0.9333\n"
     ]
    }
   ],
   "source": [
    "history = model.fit(X_train,Y_train,epochs=100,validation_data= (X_test,Y_test),callbacks=[modelcheckpoint])"
   ]
  },
  {
   "cell_type": "code",
   "execution_count": 0,
   "metadata": {
    "colab": {},
    "colab_type": "code",
    "id": "tqYjpo4fxsGg"
   },
   "outputs": [],
   "source": [
    "model.evaluate(X_train,Y_train)"
   ]
  },
  {
   "cell_type": "code",
   "execution_count": 0,
   "metadata": {
    "colab": {},
    "colab_type": "code",
    "id": "1CWHojOb-Cxc"
   },
   "outputs": [],
   "source": [
    "def plot_loss(loss,val_loss):\n",
    "  plt.figure()\n",
    "  plt.plot(loss)\n",
    "  plt.plot(val_loss)\n",
    "  plt.title('Model loss')\n",
    "  plt.ylabel('Loss')\n",
    "  plt.xlabel('Epoch')\n",
    "  plt.legend(['Train', 'Test'], loc='upper right')\n",
    "  plt.show()\n",
    "\n",
    "def plot_accuracy(acc,val_acc):\n",
    "  plt.figure()\n",
    "  plt.plot(acc)\n",
    "  plt.plot(val_acc)\n",
    "  plt.title('Model accuracy')\n",
    "  plt.ylabel('acc')\n",
    "  plt.xlabel('Epoch')\n",
    "  plt.legend(['Train','Test'],loc='upper right')\n",
    "  plt.show()"
   ]
  },
  {
   "cell_type": "code",
   "execution_count": 131,
   "metadata": {
    "colab": {
     "base_uri": "https://localhost:8080/",
     "height": 295
    },
    "colab_type": "code",
    "id": "sdq6tfo0Bp8l",
    "outputId": "fa543aed-6259-4176-af9f-1f22fe028b9e"
   },
   "outputs": [
    {
     "data": {
      "image/png": "[encoded data removed]",
      "text/plain": [
       "<Figure size 432x288 with 1 Axes>"
      ]
     },
     "metadata": {
      "needs_background": "light",
      "tags": []
     },
     "output_type": "display_data"
    }
   ],
   "source": [
    "# Plot train vs test loss during training\n",
    "plot_loss(history.history['loss'], history.history['val_loss'])"
   ]
  },
  {
   "cell_type": "code",
   "execution_count": 132,
   "metadata": {
    "colab": {
     "base_uri": "https://localhost:8080/",
     "height": 295
    },
    "colab_type": "code",
    "id": "UWfRLofnB7RT",
    "outputId": "7da9d1b6-7592-4699-919d-96e0b91fabd6"
   },
   "outputs": [
    {
     "data": {
      "image/png": "[encoded data removed]",
      "text/plain": [
       "<Figure size 432x288 with 1 Axes>"
      ]
     },
     "metadata": {
      "needs_background": "light",
      "tags": []
     },
     "output_type": "display_data"
    }
   ],
   "source": [
    "# Plot train vs test accuracy during training\n",
    "plot_accuracy(history.history['accuracy'],history.history['val_accuracy'])"
   ]
  },
  {
   "cell_type": "code",
   "execution_count": 99,
   "metadata": {
    "colab": {
     "base_uri": "https://localhost:8080/",
     "height": 295
    },
    "colab_type": "code",
    "id": "e3_ix8NSCBdP",
    "outputId": "882b460f-cf82-41b9-8562-d1cb18eed99c"
   },
   "outputs": [
    {
     "data": {
      "image/png": "[encoded data removed]",
      "text/plain": [
       "<Figure size 432x288 with 1 Axes>"
      ]
     },
     "metadata": {
      "needs_background": "light",
      "tags": []
     },
     "output_type": "display_data"
    }
   ],
   "source": [
    "# Plot train vs test accuracy during training\n",
    "plot_accuracy(history.history['accuracy'],history.history['val_accuracy'])"
   ]
  },
  {
   "cell_type": "code",
   "execution_count": 0,
   "metadata": {
    "colab": {},
    "colab_type": "code",
    "id": "oVponRJ7EXUA"
   },
   "outputs": [],
   "source": [
    "#to save model\n",
    "!pip install -q pyyaml h5py"
   ]
  },
  {
   "cell_type": "code",
   "execution_count": 0,
   "metadata": {
    "colab": {},
    "colab_type": "code",
    "id": "36MJ0MFsFKS5"
   },
   "outputs": [],
   "source": [
    "pred = model.predict(X_test)\n",
    "\n",
    "p = [np.argmax(preds) for preds in pred]"
   ]
  },
  {
   "cell_type": "code",
   "execution_count": 127,
   "metadata": {
    "colab": {
     "base_uri": "https://localhost:8080/",
     "height": 1000
    },
    "colab_type": "code",
    "id": "piyun-m5Ha3F",
    "outputId": "500af7be-21c0-4dd0-d4da-526b7e5db104"
   },
   "outputs": [
    {
     "data": {
      "text/plain": [
       "[0,\n",
       " 0,\n",
       " 0,\n",
       " 5,\n",
       " 1,\n",
       " 0,\n",
       " 5,\n",
       " 1,\n",
       " 5,\n",
       " 1,\n",
       " 5,\n",
       " 1,\n",
       " 3,\n",
       " 1,\n",
       " 1,\n",
       " 3,\n",
       " 5,\n",
       " 4,\n",
       " 0,\n",
       " 4,\n",
       " 5,\n",
       " 4,\n",
       " 2,\n",
       " 5,\n",
       " 3,\n",
       " 5,\n",
       " 4,\n",
       " 1,\n",
       " 1,\n",
       " 2,\n",
       " 3,\n",
       " 1,\n",
       " 0,\n",
       " 4,\n",
       " 1,\n",
       " 1,\n",
       " 0,\n",
       " 3,\n",
       " 4,\n",
       " 3,\n",
       " 0,\n",
       " 3,\n",
       " 0,\n",
       " 2,\n",
       " 4,\n",
       " 1,\n",
       " 1,\n",
       " 2,\n",
       " 0,\n",
       " 3,\n",
       " 4,\n",
       " 1,\n",
       " 2,\n",
       " 0,\n",
       " 4,\n",
       " 0,\n",
       " 5,\n",
       " 0,\n",
       " 4,\n",
       " 5,\n",
       " 5,\n",
       " 5,\n",
       " 2,\n",
       " 4,\n",
       " 4,\n",
       " 5,\n",
       " 0,\n",
       " 1,\n",
       " 3,\n",
       " 5,\n",
       " 0,\n",
       " 4,\n",
       " 1,\n",
       " 2,\n",
       " 3,\n",
       " 4,\n",
       " 3,\n",
       " 5,\n",
       " 1,\n",
       " 5,\n",
       " 2,\n",
       " 0,\n",
       " 1,\n",
       " 3,\n",
       " 2,\n",
       " 4,\n",
       " 4,\n",
       " 1,\n",
       " 4,\n",
       " 5,\n",
       " 5,\n",
       " 0,\n",
       " 0,\n",
       " 5,\n",
       " 5,\n",
       " 5,\n",
       " 3,\n",
       " 2,\n",
       " 5,\n",
       " 2,\n",
       " 2,\n",
       " 2,\n",
       " 0,\n",
       " 1,\n",
       " 5,\n",
       " 3,\n",
       " 0,\n",
       " 2,\n",
       " 3,\n",
       " 4,\n",
       " 1,\n",
       " 3,\n",
       " 2,\n",
       " 4,\n",
       " 2,\n",
       " 2,\n",
       " 1,\n",
       " 3,\n",
       " 2,\n",
       " 3]"
      ]
     },
     "execution_count": 127,
     "metadata": {
      "tags": []
     },
     "output_type": "execute_result"
    }
   ],
   "source": [
    "p"
   ]
  },
  {
   "cell_type": "code",
   "execution_count": 0,
   "metadata": {
    "colab": {},
    "colab_type": "code",
    "id": "hFsxy-2TJsDl"
   },
   "outputs": [],
   "source": [
    "def create_model():\n",
    "  model = Sequential()\n",
    "  model.add(Conv2D(32, input_shape=(64, 64, 3), kernel_size=3,\n",
    "                 padding = 'same',activation='relu'))\n",
    "  model.add(MaxPool2D(pool_size = (8,8),strides = (8,8),padding = 'same'))\n",
    "\n",
    "  model.add(Conv2D(16, kernel_size = 3,activation='relu'))\n",
    "  model.add(MaxPool2D(pool_size=(4,4),strides = (4,4) ,padding = \"same\"))\n",
    "  model.add(Flatten())\n",
    "  model.add(Dense(6,activation='softmax'))\n",
    "\n",
    "  model.compile(optimizer='Adam',loss='categorical_crossentropy',metrics=['accuracy'])\n",
    "\n",
    "  return model"
   ]
  },
  {
   "cell_type": "code",
   "execution_count": 0,
   "metadata": {
    "colab": {},
    "colab_type": "code",
    "id": "_o5-VXhWJvLZ"
   },
   "outputs": [],
   "source": [
    "Model = create_model()"
   ]
  },
  {
   "cell_type": "code",
   "execution_count": 135,
   "metadata": {
    "colab": {
     "base_uri": "https://localhost:8080/",
     "height": 381
    },
    "colab_type": "code",
    "id": "ZTD8Md6RLa2R",
    "outputId": "91bc8204-3f02-452a-9438-01ae065df521"
   },
   "outputs": [
    {
     "name": "stdout",
     "output_type": "stream",
     "text": [
      "Model: \"sequential_9\"\n",
      "_________________________________________________________________\n",
      "Layer (type)                 Output Shape              Param #   \n",
      "=================================================================\n",
      "conv2d_18 (Conv2D)           (None, 64, 64, 32)        896       \n",
      "_________________________________________________________________\n",
      "max_pooling2d_18 (MaxPooling (None, 8, 8, 32)          0         \n",
      "_________________________________________________________________\n",
      "conv2d_19 (Conv2D)           (None, 6, 6, 16)          4624      \n",
      "_________________________________________________________________\n",
      "max_pooling2d_19 (MaxPooling (None, 2, 2, 16)          0         \n",
      "_________________________________________________________________\n",
      "flatten_9 (Flatten)          (None, 64)                0         \n",
      "_________________________________________________________________\n",
      "dense_9 (Dense)              (None, 6)                 390       \n",
      "=================================================================\n",
      "Total params: 5,910\n",
      "Trainable params: 5,910\n",
      "Non-trainable params: 0\n",
      "_________________________________________________________________\n"
     ]
    }
   ],
   "source": [
    "Model.summary()"
   ]
  },
  {
   "cell_type": "code",
   "execution_count": 136,
   "metadata": {
    "colab": {
     "base_uri": "https://localhost:8080/",
     "height": 35
    },
    "colab_type": "code",
    "id": "tqvbpyzKL4Bt",
    "outputId": "86dfcaa8-e718-4ca4-9f5e-09f6351cbe2e"
   },
   "outputs": [
    {
     "data": {
      "text/plain": [
       "'/content/chk/cp.ckpt'"
      ]
     },
     "execution_count": 136,
     "metadata": {
      "tags": []
     },
     "output_type": "execute_result"
    }
   ],
   "source": [
    "latest = tf.train.latest_checkpoint(checkpoint_dir)\n",
    "latest"
   ]
  },
  {
   "cell_type": "code",
   "execution_count": 137,
   "metadata": {
    "colab": {
     "base_uri": "https://localhost:8080/",
     "height": 35
    },
    "colab_type": "code",
    "id": "AmSk2J_JLcyK",
    "outputId": "accaa318-250e-44c7-8b7e-648d4a0e890d"
   },
   "outputs": [
    {
     "data": {
      "text/plain": [
       "<tensorflow.python.training.tracking.util.CheckpointLoadStatus at 0x7fa2d6a213c8>"
      ]
     },
     "execution_count": 137,
     "metadata": {
      "tags": []
     },
     "output_type": "execute_result"
    }
   ],
   "source": [
    "Model.load_weights(latest)"
   ]
  },
  {
   "cell_type": "code",
   "execution_count": 141,
   "metadata": {
    "colab": {
     "base_uri": "https://localhost:8080/",
     "height": 342
    },
    "colab_type": "code",
    "id": "_RNwHHg9MHPF",
    "outputId": "ccceb6db-10f6-4c34-c689-407ec3612c79"
   },
   "outputs": [
    {
     "ename": "TypeError",
     "evalue": "ignored",
     "output_type": "error",
     "traceback": [
      "\u001b[0;31m---------------------------------------------------------------------------\u001b[0m",
      "\u001b[0;31mTypeError\u001b[0m                                 Traceback (most recent call last)",
      "\u001b[0;32m<ipython-input-141-c9d6d75e3004>\u001b[0m in \u001b[0;36m<module>\u001b[0;34m()\u001b[0m\n\u001b[0;32m----> 1\u001b[0;31m \u001b[0mModel\u001b[0m\u001b[0;34m.\u001b[0m\u001b[0mevaluate\u001b[0m\u001b[0;34m(\u001b[0m\u001b[0mX_test\u001b[0m\u001b[0;34m,\u001b[0m\u001b[0mY_test\u001b[0m\u001b[0;34m)\u001b[0m\u001b[0;34m\u001b[0m\u001b[0;34m\u001b[0m\u001b[0m\n\u001b[0m",
      "\u001b[0;32m/usr/local/lib/python3.6/dist-packages/tensorflow/python/keras/engine/training.py\u001b[0m in \u001b[0;36m_method_wrapper\u001b[0;34m(self, *args, **kwargs)\u001b[0m\n\u001b[1;32m     64\u001b[0m   \u001b[0;32mdef\u001b[0m \u001b[0m_method_wrapper\u001b[0m\u001b[0;34m(\u001b[0m\u001b[0mself\u001b[0m\u001b[0;34m,\u001b[0m \u001b[0;34m*\u001b[0m\u001b[0margs\u001b[0m\u001b[0;34m,\u001b[0m \u001b[0;34m**\u001b[0m\u001b[0mkwargs\u001b[0m\u001b[0;34m)\u001b[0m\u001b[0;34m:\u001b[0m\u001b[0;34m\u001b[0m\u001b[0;34m\u001b[0m\u001b[0m\n\u001b[1;32m     65\u001b[0m     \u001b[0;32mif\u001b[0m \u001b[0;32mnot\u001b[0m \u001b[0mself\u001b[0m\u001b[0;34m.\u001b[0m\u001b[0m_in_multi_worker_mode\u001b[0m\u001b[0;34m(\u001b[0m\u001b[0;34m)\u001b[0m\u001b[0;34m:\u001b[0m  \u001b[0;31m# pylint: disable=protected-access\u001b[0m\u001b[0;34m\u001b[0m\u001b[0;34m\u001b[0m\u001b[0m\n\u001b[0;32m---> 66\u001b[0;31m       \u001b[0;32mreturn\u001b[0m \u001b[0mmethod\u001b[0m\u001b[0;34m(\u001b[0m\u001b[0mself\u001b[0m\u001b[0;34m,\u001b[0m \u001b[0;34m*\u001b[0m\u001b[0margs\u001b[0m\u001b[0;34m,\u001b[0m \u001b[0;34m**\u001b[0m\u001b[0mkwargs\u001b[0m\u001b[0;34m)\u001b[0m\u001b[0;34m\u001b[0m\u001b[0;34m\u001b[0m\u001b[0m\n\u001b[0m\u001b[1;32m     67\u001b[0m \u001b[0;34m\u001b[0m\u001b[0m\n\u001b[1;32m     68\u001b[0m     \u001b[0;31m# Running inside `run_distribute_coordinator` already.\u001b[0m\u001b[0;34m\u001b[0m\u001b[0;34m\u001b[0m\u001b[0;34m\u001b[0m\u001b[0m\n",
      "\u001b[0;32m/usr/local/lib/python3.6/dist-packages/tensorflow/python/keras/engine/training.py\u001b[0m in \u001b[0;36mevaluate\u001b[0;34m(self, x, y, batch_size, verbose, sample_weight, steps, callbacks, max_queue_size, workers, use_multiprocessing, return_dict)\u001b[0m\n\u001b[1;32m   1079\u001b[0m                 step_num=step):\n\u001b[1;32m   1080\u001b[0m               \u001b[0mcallbacks\u001b[0m\u001b[0;34m.\u001b[0m\u001b[0mon_test_batch_begin\u001b[0m\u001b[0;34m(\u001b[0m\u001b[0mstep\u001b[0m\u001b[0;34m)\u001b[0m\u001b[0;34m\u001b[0m\u001b[0;34m\u001b[0m\u001b[0m\n\u001b[0;32m-> 1081\u001b[0;31m               \u001b[0mtmp_logs\u001b[0m \u001b[0;34m=\u001b[0m \u001b[0mtest_function\u001b[0m\u001b[0;34m(\u001b[0m\u001b[0miterator\u001b[0m\u001b[0;34m)\u001b[0m\u001b[0;34m\u001b[0m\u001b[0;34m\u001b[0m\u001b[0m\n\u001b[0m\u001b[1;32m   1082\u001b[0m               \u001b[0;31m# Catch OutOfRangeError for Datasets of unknown size.\u001b[0m\u001b[0;34m\u001b[0m\u001b[0;34m\u001b[0m\u001b[0;34m\u001b[0m\u001b[0m\n\u001b[1;32m   1083\u001b[0m               \u001b[0;31m# This blocks until the batch has finished executing.\u001b[0m\u001b[0;34m\u001b[0m\u001b[0;34m\u001b[0m\u001b[0;34m\u001b[0m\u001b[0m\n",
      "\u001b[0;32m/usr/local/lib/python3.6/dist-packages/tensorflow/python/eager/def_function.py\u001b[0m in \u001b[0;36m__call__\u001b[0;34m(self, *args, **kwds)\u001b[0m\n\u001b[1;32m    578\u001b[0m         \u001b[0mxla_context\u001b[0m\u001b[0;34m.\u001b[0m\u001b[0mExit\u001b[0m\u001b[0;34m(\u001b[0m\u001b[0;34m)\u001b[0m\u001b[0;34m\u001b[0m\u001b[0;34m\u001b[0m\u001b[0m\n\u001b[1;32m    579\u001b[0m     \u001b[0;32melse\u001b[0m\u001b[0;34m:\u001b[0m\u001b[0;34m\u001b[0m\u001b[0;34m\u001b[0m\u001b[0m\n\u001b[0;32m--> 580\u001b[0;31m       \u001b[0mresult\u001b[0m \u001b[0;34m=\u001b[0m \u001b[0mself\u001b[0m\u001b[0;34m.\u001b[0m\u001b[0m_call\u001b[0m\u001b[0;34m(\u001b[0m\u001b[0;34m*\u001b[0m\u001b[0margs\u001b[0m\u001b[0;34m,\u001b[0m \u001b[0;34m**\u001b[0m\u001b[0mkwds\u001b[0m\u001b[0;34m)\u001b[0m\u001b[0;34m\u001b[0m\u001b[0;34m\u001b[0m\u001b[0m\n\u001b[0m\u001b[1;32m    581\u001b[0m \u001b[0;34m\u001b[0m\u001b[0m\n\u001b[1;32m    582\u001b[0m     \u001b[0;32mif\u001b[0m \u001b[0mtracing_count\u001b[0m \u001b[0;34m==\u001b[0m \u001b[0mself\u001b[0m\u001b[0;34m.\u001b[0m\u001b[0m_get_tracing_count\u001b[0m\u001b[0;34m(\u001b[0m\u001b[0;34m)\u001b[0m\u001b[0;34m:\u001b[0m\u001b[0;34m\u001b[0m\u001b[0;34m\u001b[0m\u001b[0m\n",
      "\u001b[0;32m/usr/local/lib/python3.6/dist-packages/tensorflow/python/eager/def_function.py\u001b[0m in \u001b[0;36m_call\u001b[0;34m(self, *args, **kwds)\u001b[0m\n\u001b[1;32m    609\u001b[0m       \u001b[0;31m# In this case we have created variables on the first call, so we run the\u001b[0m\u001b[0;34m\u001b[0m\u001b[0;34m\u001b[0m\u001b[0;34m\u001b[0m\u001b[0m\n\u001b[1;32m    610\u001b[0m       \u001b[0;31m# defunned version which is guaranteed to never create variables.\u001b[0m\u001b[0;34m\u001b[0m\u001b[0;34m\u001b[0m\u001b[0;34m\u001b[0m\u001b[0m\n\u001b[0;32m--> 611\u001b[0;31m       \u001b[0;32mreturn\u001b[0m \u001b[0mself\u001b[0m\u001b[0;34m.\u001b[0m\u001b[0m_stateless_fn\u001b[0m\u001b[0;34m(\u001b[0m\u001b[0;34m*\u001b[0m\u001b[0margs\u001b[0m\u001b[0;34m,\u001b[0m \u001b[0;34m**\u001b[0m\u001b[0mkwds\u001b[0m\u001b[0;34m)\u001b[0m  \u001b[0;31m# pylint: disable=not-callable\u001b[0m\u001b[0;34m\u001b[0m\u001b[0;34m\u001b[0m\u001b[0m\n\u001b[0m\u001b[1;32m    612\u001b[0m     \u001b[0;32melif\u001b[0m \u001b[0mself\u001b[0m\u001b[0;34m.\u001b[0m\u001b[0m_stateful_fn\u001b[0m \u001b[0;32mis\u001b[0m \u001b[0;32mnot\u001b[0m \u001b[0;32mNone\u001b[0m\u001b[0;34m:\u001b[0m\u001b[0;34m\u001b[0m\u001b[0;34m\u001b[0m\u001b[0m\n\u001b[1;32m    613\u001b[0m       \u001b[0;31m# Release the lock early so that multiple threads can perform the call\u001b[0m\u001b[0;34m\u001b[0m\u001b[0;34m\u001b[0m\u001b[0;34m\u001b[0m\u001b[0m\n",
      "\u001b[0;31mTypeError\u001b[0m: 'NoneType' object is not callable"
     ]
    }
   ],
   "source": [
    "Model.evaluate(X_test,Y_test)"
   ]
  },
  {
   "cell_type": "code",
   "execution_count": 0,
   "metadata": {
    "colab": {},
    "colab_type": "code",
    "id": "JLGXpfw_MPXj"
   },
   "outputs": [],
   "source": [
    "model.save_weights('/content/cdir/my_checkpoint')"
   ]
  },
  {
   "cell_type": "code",
   "execution_count": 0,
   "metadata": {
    "colab": {},
    "colab_type": "code",
    "id": "sO2Kq-VYNLYi"
   },
   "outputs": [],
   "source": [
    "M = create_model()"
   ]
  },
  {
   "cell_type": "code",
   "execution_count": 144,
   "metadata": {
    "colab": {
     "base_uri": "https://localhost:8080/",
     "height": 381
    },
    "colab_type": "code",
    "id": "iBye96yQNU9e",
    "outputId": "3c57afe9-f9b5-40d5-e415-97bd07894a9b"
   },
   "outputs": [
    {
     "name": "stdout",
     "output_type": "stream",
     "text": [
      "Model: \"sequential_10\"\n",
      "_________________________________________________________________\n",
      "Layer (type)                 Output Shape              Param #   \n",
      "=================================================================\n",
      "conv2d_20 (Conv2D)           (None, 64, 64, 32)        896       \n",
      "_________________________________________________________________\n",
      "max_pooling2d_20 (MaxPooling (None, 8, 8, 32)          0         \n",
      "_________________________________________________________________\n",
      "conv2d_21 (Conv2D)           (None, 6, 6, 16)          4624      \n",
      "_________________________________________________________________\n",
      "max_pooling2d_21 (MaxPooling (None, 2, 2, 16)          0         \n",
      "_________________________________________________________________\n",
      "flatten_10 (Flatten)         (None, 64)                0         \n",
      "_________________________________________________________________\n",
      "dense_10 (Dense)             (None, 6)                 390       \n",
      "=================================================================\n",
      "Total params: 5,910\n",
      "Trainable params: 5,910\n",
      "Non-trainable params: 0\n",
      "_________________________________________________________________\n"
     ]
    }
   ],
   "source": [
    "M.summary()"
   ]
  },
  {
   "cell_type": "code",
   "execution_count": 145,
   "metadata": {
    "colab": {
     "base_uri": "https://localhost:8080/",
     "height": 35
    },
    "colab_type": "code",
    "id": "rchGa06vNWpC",
    "outputId": "0a10ce64-979d-4f91-ce16-fd1012568afa"
   },
   "outputs": [
    {
     "data": {
      "text/plain": [
       "<tensorflow.python.training.tracking.util.CheckpointLoadStatus at 0x7fa33018b400>"
      ]
     },
     "execution_count": 145,
     "metadata": {
      "tags": []
     },
     "output_type": "execute_result"
    }
   ],
   "source": [
    "M.load_weights('/content/cdir/my_checkpoint')"
   ]
  },
  {
   "cell_type": "code",
   "execution_count": 146,
   "metadata": {
    "colab": {
     "base_uri": "https://localhost:8080/",
     "height": 54
    },
    "colab_type": "code",
    "id": "R4PkdLmqNrM0",
    "outputId": "869ad0a5-8bbd-4ff2-d752-15c16cc6e07d"
   },
   "outputs": [
    {
     "name": "stdout",
     "output_type": "stream",
     "text": [
      "4/4 - 0s - loss: 0.2221 - accuracy: 0.9333\n",
      "Restored model, accuracy: 93.33%\n"
     ]
    }
   ],
   "source": [
    "loss,acc = model.evaluate(X_test,  Y_test, verbose=2)\n",
    "print(\"Restored model, accuracy: {:5.2f}%\".format(100*acc))"
   ]
  },
  {
   "cell_type": "code",
   "execution_count": 147,
   "metadata": {
    "colab": {
     "base_uri": "https://localhost:8080/",
     "height": 35
    },
    "colab_type": "code",
    "id": "j5-LAJ74OEKm",
    "outputId": "50b92d03-be5d-4b2f-d0a1-bc839b7cbbca"
   },
   "outputs": [
    {
     "name": "stdout",
     "output_type": "stream",
     "text": [
      "test_signs.h5  train_signs.h5\n"
     ]
    }
   ],
   "source": [
    "ls"
   ]
  },
  {
   "cell_type": "code",
   "execution_count": 0,
   "metadata": {
    "colab": {},
    "colab_type": "code",
    "id": "UGuXVhafOogJ"
   },
   "outputs": [],
   "source": [
    "!pip install -U -q PyDrive\n",
    "from pydrive.auth import GoogleAuth\n",
    "from pydrive.drive import GoogleDrive \n",
    "from google.colab import auth \n",
    "from oauth2client.client import GoogleCredentials"
   ]
  },
  {
   "cell_type": "code",
   "execution_count": 0,
   "metadata": {
    "colab": {},
    "colab_type": "code",
    "id": "9UB-216LO5F3"
   },
   "outputs": [],
   "source": [
    "auth.authenticate_user()\n",
    "gauth = GoogleAuth()\n",
    "gauth.credentials = GoogleCredentials.get_application_default()                       \n",
    "drive = GoogleDrive(gauth)"
   ]
  },
  {
   "cell_type": "code",
   "execution_count": 0,
   "metadata": {
    "colab": {},
    "colab_type": "code",
    "id": "5HAYEPGlO_UA"
   },
   "outputs": [],
   "source": [
    "model.save('model.h5')\n",
    "model_file = drive.CreateFile({'title' : 'model.h5'})                       \n",
    "model_file.SetContentFile('model.h5')                       \n",
    "model_file.Upload()"
   ]
  },
  {
   "cell_type": "code",
   "execution_count": 154,
   "metadata": {
    "colab": {
     "base_uri": "https://localhost:8080/",
     "height": 35
    },
    "colab_type": "code",
    "id": "MjeRQxLtPuIZ",
    "outputId": "bae45110-3ea9-403f-cd5f-2fee480587ac"
   },
   "outputs": [
    {
     "data": {
      "text/plain": [
       "GoogleDriveFile({'id': '18K12AKEwgAGB_FIYMA1H8fdoypwsXK3u'})"
      ]
     },
     "execution_count": 154,
     "metadata": {
      "tags": []
     },
     "output_type": "execute_result"
    }
   ],
   "source": [
    "# download to google drive                       \n",
    "drive.CreateFile({'id': model_file.get('id')})"
   ]
  },
  {
   "cell_type": "code",
   "execution_count": 0,
   "metadata": {
    "colab": {},
    "colab_type": "code",
    "id": "VoI7abZHP0-p"
   },
   "outputs": [],
   "source": []
  }
 ],
 "metadata": {
  "accelerator": "GPU",
  "colab": {
   "collapsed_sections": [],
   "name": "HandSigns.ipynb",
   "provenance": []
  },
  "kernelspec": {
   "display_name": "Python 3",
   "language": "python",
   "name": "python3"
  },
  "language_info": {
   "codemirror_mode": {
    "name": "ipython",
    "version": 3
   },
   "file_extension": ".py",
   "mimetype": "text/x-python",
   "name": "python",
   "nbconvert_exporter": "python",
   "pygments_lexer": "ipython3",
   "version": "3.7.5"
  }
 },
 "nbformat": 4,
 "nbformat_minor": 1
}
